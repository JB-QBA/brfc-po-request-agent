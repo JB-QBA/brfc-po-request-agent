{
 "cells": [
  {
   "cell_type": "code",
   "execution_count": 1,
   "id": "c42caf8f-1a14-469e-bcad-221e7f8ecd40",
   "metadata": {},
   "outputs": [
    {
     "ename": "ModuleNotFoundError",
     "evalue": "No module named 'fastapi'",
     "output_type": "error",
     "traceback": [
      "\u001b[1;31m---------------------------------------------------------------------------\u001b[0m",
      "\u001b[1;31mModuleNotFoundError\u001b[0m                       Traceback (most recent call last)",
      "Cell \u001b[1;32mIn[1], line 1\u001b[0m\n\u001b[1;32m----> 1\u001b[0m \u001b[38;5;28;01mfrom\u001b[39;00m \u001b[38;5;21;01mfastapi\u001b[39;00m \u001b[38;5;28;01mimport\u001b[39;00m FastAPI, Request\n\u001b[0;32m      2\u001b[0m \u001b[38;5;28;01mfrom\u001b[39;00m \u001b[38;5;21;01mfastapi\u001b[39;00m\u001b[38;5;21;01m.\u001b[39;00m\u001b[38;5;21;01mresponses\u001b[39;00m \u001b[38;5;28;01mimport\u001b[39;00m JSONResponse\n\u001b[0;32m      4\u001b[0m app \u001b[38;5;241m=\u001b[39m FastAPI()\n",
      "\u001b[1;31mModuleNotFoundError\u001b[0m: No module named 'fastapi'"
     ]
    }
   ],
   "source": [
    "from fastapi import FastAPI, Request\n",
    "from fastapi.responses import JSONResponse\n",
    "\n",
    "app = FastAPI()\n",
    "\n",
    "@app.post(\"/chatbot\")\n",
    "async def chatbot_endpoint(request: Request):\n",
    "    body = await request.json()\n",
    "    \n",
    "    message_text = body.get(\"message\", {}).get(\"text\", \"\")\n",
    "    user = body.get(\"sender\", {}).get(\"displayName\", \"Unknown user\")\n",
    "\n",
    "    # Log input for debug\n",
    "    print(f\"Received from {user}: {message_text}\")\n",
    "\n",
    "    # Sample response\n",
    "    reply = {\n",
    "        \"text\": f\"Hi {user}, you said: '{message_text}'. I'm alive and responding!\"\n",
    "    }\n",
    "\n",
    "    return JSONResponse(content=reply)"
   ]
  },
  {
   "cell_type": "code",
   "execution_count": null,
   "id": "83236a0f-7f66-4a28-8e9b-178786afaca5",
   "metadata": {},
   "outputs": [],
   "source": []
  }
 ],
 "metadata": {
  "kernelspec": {
   "display_name": "Python 3 (ipykernel)",
   "language": "python",
   "name": "python3"
  },
  "language_info": {
   "codemirror_mode": {
    "name": "ipython",
    "version": 3
   },
   "file_extension": ".py",
   "mimetype": "text/x-python",
   "name": "python",
   "nbconvert_exporter": "python",
   "pygments_lexer": "ipython3",
   "version": "3.12.7"
  }
 },
 "nbformat": 4,
 "nbformat_minor": 5
}
